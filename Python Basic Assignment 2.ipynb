{
 "cells": [
  {
   "cell_type": "markdown",
   "id": "d4863b0e",
   "metadata": {},
   "source": [
    "1.Write a program that reads an integer from the user. Then your program should display a message indicating whether the integer is even or odd ?"
   ]
  },
  {
   "cell_type": "code",
   "execution_count": 1,
   "id": "3be7264f",
   "metadata": {},
   "outputs": [
    {
     "name": "stdout",
     "output_type": "stream",
     "text": [
      "enter the integer number-26\n",
      "entered number is even\n"
     ]
    }
   ],
   "source": [
    "x = int(input(\"enter the integer number-\"))\n",
    "if (x%2==0):\n",
    "    print(\"entered number is even\")\n",
    "else:\n",
    "    print(\"entered number is odd\")"
   ]
  },
  {
   "cell_type": "markdown",
   "id": "8e348173",
   "metadata": {},
   "source": [
    "2.Write a program that implements the conversion from human years to dog years described in the previous paragraph. Ensure that your program works correctly for conversions of less than two human years and for conversions of two or more human years. Your program should display an appropriate error message if the user enters a negative number."
   ]
  },
  {
   "cell_type": "code",
   "execution_count": 2,
   "id": "9bfe2707",
   "metadata": {},
   "outputs": [
    {
     "name": "stdout",
     "output_type": "stream",
     "text": [
      "Entre the human year- 26\n",
      "The Dog years are  2.5\n"
     ]
    }
   ],
   "source": [
    "# 15 human years equals the first year of a medium-sized dog's life.\n",
    "# Year two for a dog equals about nine years for a human.\n",
    "# And after that, each four human year would be approximately one years for a dog.\n",
    "\n",
    "y = int(input(\"Entre the human year- \"))\n",
    "if (y>=0 and y<=15):\n",
    "    d = y/15\n",
    "    print(\"The Dog year is \",d)\n",
    "elif((y>=16)and(y<=24)):\n",
    "    e = 1+((y-15)/9)\n",
    "    print(\"The Dog years are \",e)\n",
    "elif (y>24):\n",
    "    f = 2 + ((y-24)/4)\n",
    "    print(\"The Dog years are \",f)\n",
    "else:\n",
    "    print(\"Negative numbers are not allowed \")"
   ]
  },
  {
   "cell_type": "markdown",
   "id": "0be0b512",
   "metadata": {},
   "source": [
    "3.Create a program that reads a letter of the alphabet from the user. If the user enters a, e, i, o or u then your program should display a message indicating that the entered letter is a vowel. If the user enters y then your program should display a message indicating that sometimes y is a vowel, and sometimes y is a consonant. Otherwise your program should display a message indicating that the letter is a consonant."
   ]
  },
  {
   "cell_type": "code",
   "execution_count": 3,
   "id": "c54ebd05",
   "metadata": {},
   "outputs": [
    {
     "name": "stdout",
     "output_type": "stream",
     "text": [
      "Enter the Letter A\n",
      "The letter is a vowel.\n"
     ]
    }
   ],
   "source": [
    "z = input(\"Enter the Letter \")\n",
    "s = z.lower()\n",
    "if (s==\"a\"or s==\"e\"or s==\"i\"or s==\"o\"or s==\"u\"):\n",
    "    print(\"The letter is a vowel.\")\n",
    "elif (s==\"y\"):\n",
    "    print(\"sometimes y is a vowel, and sometimes y is a consonant\")\n",
    "else:\n",
    "    print(\"The letter is a consonant\") "
   ]
  },
  {
   "cell_type": "markdown",
   "id": "27990a36",
   "metadata": {},
   "source": [
    "4.Write a program that determines the name of a shape from its number of sides. Read the number of sides from the user and then report the appropriate name as part of a meaningful message. Your program should support shapes with anywhere from 3 up to (and including) 10 sides. If a number of sides outside of this range is entered then your program should display an appropriate error message"
   ]
  },
  {
   "cell_type": "code",
   "execution_count": 4,
   "id": "f12f4ee3",
   "metadata": {},
   "outputs": [
    {
     "name": "stdout",
     "output_type": "stream",
     "text": [
      "Enter any one number between 3 to 10 - 6\n",
      "The shape is Hexagon\n"
     ]
    }
   ],
   "source": [
    "x = int(input(\"Enter any one number between 3 to 10 - \"))\n",
    "s = {3:\"Triangle\",4:\"Quadrilateral\",5:\"Pentagon\",6:\"Hexagon\",7:\"Heptagon\",8:\"Octagon\",9:\"Nonagon\",10:\"Decagon\"}\n",
    "if x==3:\n",
    "    print(\"The shape is\",s[3])\n",
    "elif x==4:\n",
    "    print(\"The shape is\",s[4])\n",
    "elif x==5:\n",
    "    print(\"The shape is\",s[5])\n",
    "elif x==6:\n",
    "    print(\"The shape is\",s[6])\n",
    "elif x==7:\n",
    "    print(\"The shape is\",s[7])\n",
    "elif x==8:\n",
    "    print(\"The shape is\",s[8])\n",
    "elif x==9:\n",
    "    print(\"The shape is\",s[9])\n",
    "elif x==10:\n",
    "    print(\"The shape is\",s[10])\n",
    "else:\n",
    "    print(\"a number of sides of the range\")"
   ]
  },
  {
   "cell_type": "markdown",
   "id": "3ba315dd",
   "metadata": {},
   "source": [
    "OR"
   ]
  },
  {
   "cell_type": "code",
   "execution_count": 5,
   "id": "e43edf8c",
   "metadata": {},
   "outputs": [
    {
     "name": "stdout",
     "output_type": "stream",
     "text": [
      "Enter any one number between 3 to 10 - 5\n",
      "the shape is  Pentagon\n"
     ]
    }
   ],
   "source": [
    "x = int(input(\"Enter any one number between 3 to 10 - \"))\n",
    "s = {3:\"Triangle\",4:\"Quadrilateral\",5:\"Pentagon\",6:\"Hexagon\",7:\"Heptagon\",8:\"Octagon\",9:\"Nonagon\",10:\"Decagon\"}\n",
    "if x in range (3,11):\n",
    "    for i in s:\n",
    "        i==x\n",
    "        print(\"the shape is \",s[x])\n",
    "        break\n",
    "else:\n",
    "    print(\"then number of sides outside of range\")"
   ]
  },
  {
   "cell_type": "markdown",
   "id": "5f373cdf",
   "metadata": {},
   "source": [
    "5.The length of a month varies from 28 to 31 days. In this exercise you will create a program that reads the name of a month from the user as a string. Then your program should display the number of days in that month. Display “28 or 29 days” for February so that leap years are addressed.\n"
   ]
  },
  {
   "cell_type": "code",
   "execution_count": 6,
   "id": "390a3a89",
   "metadata": {},
   "outputs": [
    {
     "name": "stdout",
     "output_type": "stream",
     "text": [
      "Enter the month name- april\n",
      "This month have 30 Days\n"
     ]
    }
   ],
   "source": [
    "x = input(\"Enter the month name- \")\n",
    "if (x==\"january\")or(x==\"march\")or(x==\"may\")or(x==\"july\")or(x==\"august\")or(x==\"octomber\")or(x==\"december\"):\n",
    "    print(\"This month have 31 Days\")\n",
    "elif (x==\"february\"):\n",
    "    print(\"this month have 28 days or 29 days\")\n",
    "elif (x==\"april\")or(x==\"june\")or(x==\"september\")or(x==\"november\"):\n",
    "    print(\"This month have 30 Days\")\n",
    "else:\n",
    "    print(\"Entered month name is invalid\")"
   ]
  },
  {
   "cell_type": "markdown",
   "id": "9958dd0e",
   "metadata": {},
   "source": [
    "6.The following table lists the sound level in decibels for several common noises.\n",
    "Noise Decibel level (dB) Jackhammer 130 Gas lawnmower 106 Alarm clock 70 Quiet room 40 Write a program that reads a sound level in decibels from the user. If the user enters a decibel level that matches one of the noises in the table then your program should display a message containing only that noise. If the user enters a number of decibels between the noises listed then your program should display a message indicating which noises the level is between. Ensure that your program also generates reasonable output for a value smaller than the quietest noise in the table, and for a value larger than the loudest noise in the table."
   ]
  },
  {
   "cell_type": "code",
   "execution_count": 7,
   "id": "b82d71ea",
   "metadata": {},
   "outputs": [
    {
     "name": "stdout",
     "output_type": "stream",
     "text": [
      "Enter noise level in dB - 69\n",
      "Entered dB is between Alarm clock and Quiet room\n"
     ]
    }
   ],
   "source": [
    "x = int(input(\"Enter noise level in dB - \"))\n",
    "if (x==130):\n",
    "    print(\"Jackhammer\")\n",
    "elif(x==106):\n",
    "    print(\"Gas lawnmower\")\n",
    "elif(x==70):\n",
    "    print(\"Alarm clock\")\n",
    "elif(x==40):\n",
    "    print(\"Quiet room \")\n",
    "elif(x>40 and x<70):\n",
    "    print(\"Entered dB is between Alarm clock and Quiet room\")\n",
    "elif(x>70 and x<106):\n",
    "    print(\"Entered dB is between Gas lawnmower and Alarm clock\")\n",
    "elif(x>106 and x<130):\n",
    "    print(\"Entered dB is between Jackhammer and Gas lawnmower\")\n",
    "elif(x<40):\n",
    "    print(\"Entered dB is smaller than the quietest noise\")\n",
    "else:\n",
    "    print(\"Entered dB is larger than the loudest noise\")"
   ]
  },
  {
   "cell_type": "code",
   "execution_count": 8,
   "id": "3e11dd94",
   "metadata": {},
   "outputs": [],
   "source": [
    "# 7) The following table lists an octave of music notes, beginning with middle C, along with their frequencies.\n",
    "# Note   Frequency (Hz)\n",
    "# C4      261.63\n",
    "# D4      293.66 \n",
    "# E4      329.63\n",
    "# F4      349.23 \n",
    "# G4      392.00\n",
    "# A4      440.00 \n",
    "# B4      493.88\n",
    "# Begin by writing a program that reads the name of a note from the user and displays the note’s frequency."
   ]
  },
  {
   "cell_type": "code",
   "execution_count": 9,
   "id": "187ab25c",
   "metadata": {},
   "outputs": [
    {
     "name": "stdout",
     "output_type": "stream",
     "text": [
      "To know the frquency,First choose note from this ['A4', 'B4', 'C4', 'D4', 'E4', 'F4', 'G4']\n",
      "Enter the music note E4\n",
      "The frequency is 329.63\n"
     ]
    }
   ],
   "source": [
    "s = [\"A4\",\"B4\",\"C4\",\"D4\",\"E4\",\"F4\",\"G4\"]\n",
    "print(\"To know the frquency,First choose note from this\",s)\n",
    "x = input(\"Enter the music note \")\n",
    "if x==\"C4\":\n",
    "    print(\"The frequency is 261.63\")\n",
    "elif x==\"D4\":\n",
    "    print(\"The frequency is 293.66\")\n",
    "elif x==\"E4\":\n",
    "    print(\"The frequency is 329.63\")\n",
    "elif x==\"F4\":\n",
    "    print(\"The frequency is 349.23\")\n",
    "elif x==\"G4\":\n",
    "    print(\"The frequency is 392.00\")\n",
    "elif x==\"A4\":\n",
    "    print(\"The frequency is 440.00\")\n",
    "elif x==\"B4\":\n",
    "    print(\"The frequency is 493.88\")\n",
    "else:\n",
    "    print(\"Entered note is not valid\")"
   ]
  },
  {
   "cell_type": "markdown",
   "id": "349fe9ee",
   "metadata": {},
   "source": [
    "8.In the previous question you converted from note name to frequency. In this question you will write a program that reverses that process. Begin by reading a frequency from the user. If the frequency is within one Hertz of a value listed in the table in the previous question then report the name of the note. Otherwise report that the frequency does not correspond to a known note. In this exercise you only need to consider the notes listed in the table. There is no need to consider notes from other octaves."
   ]
  },
  {
   "cell_type": "code",
   "execution_count": 10,
   "id": "1a0c7f9e",
   "metadata": {},
   "outputs": [
    {
     "name": "stdout",
     "output_type": "stream",
     "text": [
      "Choose any one the freq from this  [493.88, 440, 392, 349.23, 329.63, 293.66, 261.63]\n",
      "Enter the frequency- 420\n",
      "Entered frequency is invalid\n"
     ]
    }
   ],
   "source": [
    "s = [493.88, 440, 392, 349.23, 329.63, 293.66, 261.63]\n",
    "print(\"Choose any one the freq from this \",s)\n",
    "x = float(input(\"Enter the frequency- \"))\n",
    "if x==s[0]:\n",
    "    print(\"The note is B4\")\n",
    "elif x==s[1]:\n",
    "    print(\"The note is A4\")\n",
    "elif x==s[2]:\n",
    "    print(\"The note is G4\")\n",
    "elif x==s[3]:\n",
    "    print(\"The note is F4\")\n",
    "elif x==s[4]:\n",
    "    print(\"The note is E4\")\n",
    "elif x==s[5]:\n",
    "    print(\"The note is D4\")\n",
    "elif x==s[6]:\n",
    "    print(\"The note is C4\")\n",
    "else:\n",
    "    print(\"Entered frequency is invalid\")"
   ]
  },
  {
   "cell_type": "code",
   "execution_count": 11,
   "id": "1fcc9ade",
   "metadata": {},
   "outputs": [],
   "source": [
    "# 9) The wavelength of visible light ranges from 380 to 750 nanometers (nm). While the spectrum is continuous, it is often divided    into 6 colors as shown below:\n",
    "# Color          Wavelength (nm) \n",
    "# Violet         380 to less than 450 \n",
    "# Blue           450 to less than 495 \n",
    "# Green          495 to less than 570 \n",
    "# Yellow         570 to less than 590 \n",
    "# Orange         590 to less than 620\n",
    "# Red            620 to 750\n",
    "# Write a program that reads a wavelength from the user and reports its color. Display an appropriate error message if the wavele"
   ]
  },
  {
   "cell_type": "code",
   "execution_count": 12,
   "id": "d55993a2",
   "metadata": {},
   "outputs": [
    {
     "name": "stdout",
     "output_type": "stream",
     "text": [
      "Enter the wavelength between 380 to 750 - 350\n",
      "Entered wavelength is invalid\n"
     ]
    }
   ],
   "source": [
    "x = int(input(\"Enter the wavelength between 380 to 750 - \"))\n",
    "if (x>=380 and x<450):\n",
    "    print(\"The color is Violet\")\n",
    "elif (x>=450 and x<495):\n",
    "    print(\"The color is Blue\")\n",
    "elif (x>=495 and x<570):\n",
    "    print(\"The color is Green\")\n",
    "elif (x>=570 and x<590):\n",
    "    print(\"The color is Yellow\")\n",
    "elif (x>=490 and x<620):\n",
    "    print(\"The color is Orange\")\n",
    "elif (x>=620 and x<=750):\n",
    "    print(\"The color is Red\")\n",
    "else:\n",
    "    print(\"Entered wavelength is invalid\")"
   ]
  },
  {
   "cell_type": "markdown",
   "id": "a54b96ef",
   "metadata": {},
   "source": [
    "LIST\n",
    "\n",
    "1.Write a main program that demonstrates your function. Your function should read a list of numbers from the user and remove the two largest and two smallest values from it. Display the list with the outliers removed, followed by the original list. Your program should generate an appropriate error message if the user enters less than 4 values."
   ]
  },
  {
   "cell_type": "code",
   "execution_count": 13,
   "id": "34032cd8",
   "metadata": {},
   "outputs": [],
   "source": [
    "# just for practice\n",
    "# def mid():\n",
    "#         s = []\n",
    "#         for i in range(0,10):\n",
    "#             x = float(input(\"Enter the number - \"))\n",
    "#             if (x>0):\n",
    "#                 s.append(x)\n",
    "#                 print(s)\n",
    "#             else:\n",
    "#                 print(\"negative numbers are not allowed\")\n",
    "#         return(s)"
   ]
  },
  {
   "cell_type": "code",
   "execution_count": 14,
   "id": "2933a0df",
   "metadata": {},
   "outputs": [],
   "source": [
    "def m():\n",
    "        n = int(input(\"How many vlues are you enter in the list \"))\n",
    "        s = []\n",
    "        while True:\n",
    "            if (len(s)==n):\n",
    "                break\n",
    "            elif (n<4):\n",
    "                print(\"More values are require\")\n",
    "                break\n",
    "            else:\n",
    "                x = float(input(\"Enter the number - \"))\n",
    "                if (x>0):\n",
    "                    s.append(x)\n",
    "                    print(s)\n",
    "                elif(x<0):\n",
    "                    print(\"negative numbers are not allowed\")         \n",
    "        return(s)"
   ]
  },
  {
   "cell_type": "code",
   "execution_count": 18,
   "id": "bc8b9e01",
   "metadata": {},
   "outputs": [
    {
     "name": "stdout",
     "output_type": "stream",
     "text": [
      "How many vlues are you enter in the list 6\n",
      "Enter the number - 56\n",
      "[56.0]\n",
      "Enter the number - 45\n",
      "[56.0, 45.0]\n",
      "Enter the number - 43\n",
      "[56.0, 45.0, 43.0]\n",
      "Enter the number - 23\n",
      "[56.0, 45.0, 43.0, 23.0]\n",
      "Enter the number - 45\n",
      "[56.0, 45.0, 43.0, 23.0, 45.0]\n",
      "Enter the number - 67\n",
      "[56.0, 45.0, 43.0, 23.0, 45.0, 67.0]\n",
      "\n",
      "List for data analysis is  [45.0, 45.0]\n",
      "Removed largest outlier [67.0, 56.0]\n",
      "Removed smallest outliers [23.0, 43.0]\n"
     ]
    }
   ],
   "source": [
    "try:\n",
    "    g=[]\n",
    "    f=[]\n",
    "    a = m()\n",
    "    print()\n",
    "    w = max(a)\n",
    "    g.append(w)\n",
    "    a.remove(w)\n",
    "    v = max(a)\n",
    "    g.append(v)\n",
    "    a.remove(v)\n",
    "    u = min(a)\n",
    "    f.append(u)\n",
    "    a.remove(u)\n",
    "    t = min(a)\n",
    "    f.append(t)\n",
    "    a.remove(t)\n",
    "    print(\"List for data analysis is \",a)\n",
    "    print(\"Removed largest outlier\",g)\n",
    "    print(\"Removed smallest outliers\",f)\n",
    "except:\n",
    "    print(\"error\")"
   ]
  },
  {
   "cell_type": "markdown",
   "id": "c67401e1",
   "metadata": {},
   "source": []
  },
  {
   "cell_type": "markdown",
   "id": "b11ab02f",
   "metadata": {},
   "source": [
    "2.In this exercise you will create a program that identifies all of the words in a string entered by the user. Begin by writing a function that takes a string of text as its only parameter. Your function should return a list of the words in the string with the punctuation marks at the edges of the words removed. The punctuation marks that you must remove include commas, periods, question marks, hyphens, apostrophes, exclamation points, colons, and semicolons. Do not remove punctuation marks that appear in the middle of a words, such as the apostrophes used to form a contraction. For example, if your function is provided with the string \"Examples of contractions include: don’t, isn’t, and wouldn’t.\" then your function should return the list [\"Examples\", \"of\",\"contractions\",\"include\",\"don’t\",\"isn’t\",\"and\",\"wouldn’t\"].Write a main program that demonstrates your function. It should read a string from the user and display all of the words in the string with the punctuation marks removed. You will need to import your solution to this exercise when completing Exercise 158. As a result, you should ensure that your main program only runs when your file has not been imported into another program.\n"
   ]
  },
  {
   "cell_type": "code",
   "execution_count": 23,
   "id": "fdf5431b",
   "metadata": {},
   "outputs": [
    {
     "name": "stdout",
     "output_type": "stream",
     "text": [
      "Enter a string: bhanu\n",
      "Words: ['bhanu']\n"
     ]
    }
   ],
   "source": [
    "import string\n",
    "\n",
    "def extract_words(text):\n",
    "    # Remove all punctuation marks from the text\n",
    "    text = text.translate(str.maketrans(\"\", \"\", string.punctuation))\n",
    "    # Split the text into words and return the list\n",
    "    return text.split()\n",
    "\n",
    "if __name__ == \"__main__\":\n",
    "    # Read the string from the user\n",
    "    text = input(\"Enter a string: \")\n",
    "    # Call the function to extract the words\n",
    "    words = extract_words(text)\n",
    "    # Display the words\n",
    "    print(\"Words:\", words)\n"
   ]
  },
  {
   "cell_type": "markdown",
   "id": "49fd2d63",
   "metadata": {},
   "source": [
    "or"
   ]
  },
  {
   "cell_type": "code",
   "execution_count": 24,
   "id": "e3e007e6",
   "metadata": {},
   "outputs": [],
   "source": [
    "def p():\n",
    "    x = input(\"Enter your sentence- \")\n",
    "    y = x.split(\" \")\n",
    "    s = []\n",
    "    s.extend(y)\n",
    "    return(s)"
   ]
  },
  {
   "cell_type": "code",
   "execution_count": 26,
   "id": "4ccbe5f1",
   "metadata": {},
   "outputs": [
    {
     "name": "stdout",
     "output_type": "stream",
     "text": [
      "Enter your sentence- bhanu is an data scientist\n",
      "5\n",
      "['bhanu', 'is', 'an', 'data', 'scientist']\n"
     ]
    }
   ],
   "source": [
    "a = p()\n",
    "f = len(a)\n",
    "print(f)\n",
    "z = f-1\n",
    "while z>=0:\n",
    "    w = a[z]\n",
    "    u = list(w)\n",
    "    r = len(u)-1\n",
    "    while r>=0:\n",
    "        if(u[r]==\",\"):\n",
    "            a.remove(w)\n",
    "        elif(u[r]==\".\"):\n",
    "            a.remove(w)\n",
    "        elif(u[r]==\"?\"):\n",
    "            a.remove(w)\n",
    "        elif(u[r]==\"_\"):\n",
    "            a.remove(w)\n",
    "        elif(u[r]==\";\"):\n",
    "            a.remove(w)\n",
    "        elif(u[r]==\":\"):\n",
    "            a.remove(w)\n",
    "        elif(u[r]==\"!\"):\n",
    "            a.remove(w)\n",
    "        elif(r==len(u)-2):\n",
    "            pass\n",
    "        elif(u[r]==\"'\"):\n",
    "            a.remove(w)\n",
    "        r=r-1\n",
    "    z=z-1\n",
    "print(a)"
   ]
  },
  {
   "cell_type": "code",
   "execution_count": null,
   "id": "53f8640d",
   "metadata": {},
   "outputs": [],
   "source": [
    "# This program will remove all punctuation mark in the given sentence\n",
    "# a = p()\n",
    "# f = len(a)\n",
    "# print(f)\n",
    "# z = f-1\n",
    "# while z>=0:\n",
    "#     w = a[z]\n",
    "#     u = list(w)\n",
    "#     r = len(u)-1\n",
    "#     while r>=0:\n",
    "#         if(u[r]==\",\"):\n",
    "#             a.remove(w)\n",
    "#         elif(u[r]==\".\"):\n",
    "#             a.remove(w)\n",
    "#         elif(u[r]==\"?\"):\n",
    "#             a.remove(w)\n",
    "#         elif(u[r]==\"_\"):\n",
    "#             a.remove(w)\n",
    "#         elif(u[r]==\";\"):\n",
    "#             a.remove(w)\n",
    "#         elif(u[r]==\":\"):\n",
    "#             a.remove(w)\n",
    "#         elif(u[r]==\"!\"):\n",
    "#             a.remove(w)\n",
    "#         elif(u[r]==\"'\"):\n",
    "#             a.remove(w)\n",
    "#         r=r-1\n",
    "#     z=z-1\n",
    "# print(a)"
   ]
  }
 ],
 "metadata": {
  "kernelspec": {
   "display_name": "Python 3 (ipykernel)",
   "language": "python",
   "name": "python3"
  },
  "language_info": {
   "codemirror_mode": {
    "name": "ipython",
    "version": 3
   },
   "file_extension": ".py",
   "mimetype": "text/x-python",
   "name": "python",
   "nbconvert_exporter": "python",
   "pygments_lexer": "ipython3",
   "version": "3.9.12"
  }
 },
 "nbformat": 4,
 "nbformat_minor": 5
}
