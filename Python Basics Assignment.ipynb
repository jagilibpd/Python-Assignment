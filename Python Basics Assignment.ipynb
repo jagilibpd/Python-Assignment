{
 "cells": [
  {
   "cell_type": "code",
   "execution_count": 1,
   "id": "0cd8846c",
   "metadata": {},
   "outputs": [
    {
     "name": "stdout",
     "output_type": "stream",
     "text": [
      "i love my mother\n"
     ]
    }
   ],
   "source": [
    "a = \"i love my mother\"\n",
    "print(a)"
   ]
  },
  {
   "cell_type": "code",
   "execution_count": 2,
   "id": "896a8f37",
   "metadata": {},
   "outputs": [
    {
     "name": "stdout",
     "output_type": "stream",
     "text": [
      "i love my father\n"
     ]
    }
   ],
   "source": [
    "a = \"i love my father\"\n",
    "print(a)"
   ]
  },
  {
   "cell_type": "code",
   "execution_count": 8,
   "id": "b1d620fc",
   "metadata": {},
   "outputs": [
    {
     "name": "stdout",
     "output_type": "stream",
     "text": [
      " Hello Bhanu ,would you like to play circket today\n"
     ]
    }
   ],
   "source": [
    "b = \" Hello Bhanu \"\n",
    "c = \",would you like to play circket today\"\n",
    "print(b+c)"
   ]
  },
  {
   "cell_type": "code",
   "execution_count": 9,
   "id": "bc3ec5e6",
   "metadata": {},
   "outputs": [
    {
     "name": "stdout",
     "output_type": "stream",
     "text": [
      "Once a loard krishna said:WHATEVER HAPPENED, HAPPENED FOR THE GOOD. WHATEVER IS HAPPENNG,IS HAPPENING FOR THE GOOD WHATHEVER WILL HAPPEN,WIIL ALSO HAPPEN FOR THE GOOD.\n"
     ]
    }
   ],
   "source": [
    "# bhanu prakash daivajna& 22/10/2022\n",
    "# this program print the sentence which is written in \"print command\"\n",
    "\n",
    "print(\"Once a loard krishna said:\"   \n",
    "      \"WHATEVER HAPPENED,\"\n",
    "     \" HAPPENED FOR THE GOOD.\"\n",
    "     \" WHATEVER IS HAPPENNG,IS\"\n",
    "     \" HAPPENING FOR THE GOOD\"\n",
    "     \" WHATHEVER WILL HAPPEN,WIIL\"\n",
    "     \" ALSO HAPPEN FOR THE GOOD.\")"
   ]
  },
  {
   "cell_type": "code",
   "execution_count": 10,
   "id": "14ae5340",
   "metadata": {},
   "outputs": [
    {
     "name": "stdout",
     "output_type": "stream",
     "text": [
      "Once a loard krishna said:WHATEVER HAPPENED, HAPPENED FOR THE GOOD WHATEVER IS HAPPENNG,IS HAPPENING FOR THE GOOD. WHATHEVER WILL HAPPEN,WIIL ALSO HAPPEN FOR THE GOOD.\n"
     ]
    }
   ],
   "source": [
    "famous_person= \"lord krishna\"\n",
    "message =(\"Once a loard krishna said:\"   \n",
    "      \"WHATEVER HAPPENED,\"\n",
    "     \" HAPPENED FOR THE GOOD\"\n",
    "     \" WHATEVER IS HAPPENNG,IS\"\n",
    "     \" HAPPENING FOR THE GOOD.\"\n",
    "     \" WHATHEVER WILL HAPPEN,WIIL\"\n",
    "     \" ALSO HAPPEN FOR THE GOOD.\")\n",
    "print(message)"
   ]
  },
  {
   "cell_type": "code",
   "execution_count": 11,
   "id": "e045bb73",
   "metadata": {},
   "outputs": [
    {
     "name": "stdout",
     "output_type": "stream",
     "text": [
      "8\n",
      "8\n",
      "8\n",
      "8\n"
     ]
    }
   ],
   "source": [
    "# bhanu prakash daivajna & 22/10/2022\n",
    "# this program print addition,substraction,multiplication,divion of given value in \"print comand\"\n",
    "print(4+4)\n",
    "print(4*2)\n",
    "print(12-4)\n",
    "print(int(96/12))"
   ]
  },
  {
   "cell_type": "code",
   "execution_count": 12,
   "id": "3a2de721",
   "metadata": {},
   "outputs": [
    {
     "name": "stdout",
     "output_type": "stream",
     "text": [
      "my birth date is  7\n"
     ]
    }
   ],
   "source": [
    "x = 7\n",
    "print(\"my birth date is \",x)"
   ]
  },
  {
   "cell_type": "code",
   "execution_count": 13,
   "id": "3789e750",
   "metadata": {},
   "outputs": [
    {
     "name": "stdout",
     "output_type": "stream",
     "text": [
      "['bhanu', 'vignan', 'chandu', 'rajendra', 'yugi', 'nari']\n"
     ]
    }
   ],
   "source": [
    "name = [\"bhanu\",\"vignan\",\"chandu\",\"rajendra\",\"yugi\",\"nari\"]\n",
    "print(name)"
   ]
  },
  {
   "cell_type": "code",
   "execution_count": 16,
   "id": "5e4afc85",
   "metadata": {},
   "outputs": [
    {
     "name": "stdout",
     "output_type": "stream",
     "text": [
      "bhanu\n"
     ]
    }
   ],
   "source": [
    "print(\"bhanu\")"
   ]
  },
  {
   "cell_type": "code",
   "execution_count": 17,
   "id": "e8dc2a7c",
   "metadata": {},
   "outputs": [
    {
     "name": "stdout",
     "output_type": "stream",
     "text": [
      "vignan\n"
     ]
    }
   ],
   "source": [
    "print(\"vignan\")"
   ]
  },
  {
   "cell_type": "code",
   "execution_count": 18,
   "id": "99bd8773",
   "metadata": {},
   "outputs": [
    {
     "name": "stdout",
     "output_type": "stream",
     "text": [
      "chandu\n"
     ]
    }
   ],
   "source": [
    "print(\"chandu\")"
   ]
  },
  {
   "cell_type": "code",
   "execution_count": 19,
   "id": "7ae45cf2",
   "metadata": {},
   "outputs": [
    {
     "name": "stdout",
     "output_type": "stream",
     "text": [
      "rajendra\n"
     ]
    }
   ],
   "source": [
    "print(\"rajendra\")"
   ]
  },
  {
   "cell_type": "code",
   "execution_count": 23,
   "id": "a9051bda",
   "metadata": {},
   "outputs": [
    {
     "name": "stdout",
     "output_type": "stream",
     "text": [
      "yugi,nari\n"
     ]
    }
   ],
   "source": [
    "print(\"yugi,nari\")"
   ]
  },
  {
   "cell_type": "code",
   "execution_count": 24,
   "id": "e4d2d1d9",
   "metadata": {},
   "outputs": [
    {
     "name": "stdout",
     "output_type": "stream",
     "text": [
      "hello bhanu,how are you?\n",
      "hello vignan,how are you?\n",
      "hello chandu,how are you?\n",
      "hello rajendra,how are you?\n",
      "hello yugi,nari,how are you?\n"
     ]
    }
   ],
   "source": [
    "print(\"hello bhanu,how are you?\")\n",
    "print(\"hello vignan,how are you?\")\n",
    "print(\"hello chandu,how are you?\")\n",
    "print(\"hello rajendra,how are you?\")\n",
    "print(\"hello yugi,nari,how are you?\")"
   ]
  },
  {
   "cell_type": "code",
   "execution_count": 25,
   "id": "ff89fc0f",
   "metadata": {},
   "outputs": [
    {
     "name": "stdout",
     "output_type": "stream",
     "text": [
      "['Bus', 'Car', 'Motorcycle', 'airoplane', 'cycle']\n"
     ]
    }
   ],
   "source": [
    "transportation_mode = [\"Bus\",\"Car\",\"Motorcycle\",\"airoplane\",\"cycle\"]\n",
    "print(transportation_mode)"
   ]
  },
  {
   "cell_type": "code",
   "execution_count": 26,
   "id": "c3db7ce6",
   "metadata": {},
   "outputs": [
    {
     "name": "stdout",
     "output_type": "stream",
     "text": [
      "i would like to travel in Bus for a very long distance.\n",
      "i would like to own a BWM car.\n",
      "i would like to drive motorcycle.\n",
      "i would like the facilities of airindia rather then the other cpmpany.\n",
      "i would like to cycling in the morning.\n"
     ]
    }
   ],
   "source": [
    "print(\"i would like to travel in Bus for a very long distance.\")\n",
    "print(\"i would like to own a BWM car.\")\n",
    "print(\"i would like to drive motorcycle.\")\n",
    "print(\"i would like the facilities of airindia rather then the other cpmpany.\")\n",
    "print(\"i would like to cycling in the morning.\")"
   ]
  },
  {
   "cell_type": "code",
   "execution_count": null,
   "id": "84ddc4c5",
   "metadata": {},
   "outputs": [],
   "source": []
  }
 ],
 "metadata": {
  "kernelspec": {
   "display_name": "Python 3 (ipykernel)",
   "language": "python",
   "name": "python3"
  },
  "language_info": {
   "codemirror_mode": {
    "name": "ipython",
    "version": 3
   },
   "file_extension": ".py",
   "mimetype": "text/x-python",
   "name": "python",
   "nbconvert_exporter": "python",
   "pygments_lexer": "ipython3",
   "version": "3.9.12"
  }
 },
 "nbformat": 4,
 "nbformat_minor": 5
}
